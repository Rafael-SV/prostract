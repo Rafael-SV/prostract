{
 "cells": [
  {
   "cell_type": "code",
   "execution_count": 2,
   "metadata": {},
   "outputs": [
    {
     "data": {
      "text/plain": [
       "'\\nThis script contains the function to call the gromacs utility pdb2gmx to turn PDB files \\ninto gromacs topology files. The gromacs .top file output is a text file with each residue numbered and \\ndefined. \\n'"
      ]
     },
     "execution_count": 2,
     "metadata": {},
     "output_type": "execute_result"
    }
   ],
   "source": [
    "\"\"\"\n",
    "This script contains the function to call the gromacs utility pdb2gmx to turn PDB files \n",
    "into gromacs topology files. The gromacs .top file output is a text file with each residue numbered and \n",
    "defined. \n",
    "Need to do:\n",
    "Run and look at .top output to see how to connect each atom to \n",
    "\"\"\""
   ]
  },
  {
   "cell_type": "code",
   "execution_count": null,
   "metadata": {},
   "outputs": [],
   "source": []
  }
 ],
 "metadata": {
  "kernelspec": {
   "display_name": "Python 3",
   "language": "python",
   "name": "python3"
  },
  "language_info": {
   "codemirror_mode": {
    "name": "ipython",
    "version": 3
   },
   "file_extension": ".py",
   "mimetype": "text/x-python",
   "name": "python",
   "nbconvert_exporter": "python",
   "pygments_lexer": "ipython3",
   "version": "3.8.5"
  }
 },
 "nbformat": 4,
 "nbformat_minor": 4
}
