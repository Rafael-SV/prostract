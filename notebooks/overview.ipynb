{
 "cells": [
  {
   "cell_type": "code",
   "execution_count": 1,
   "metadata": {},
   "outputs": [
    {
     "data": {
      "text/plain": [
       "'\\nOverview psuedocode for whole project\\n'"
      ]
     },
     "execution_count": 1,
     "metadata": {},
     "output_type": "execute_result"
    }
   ],
   "source": [
    "\"\"\"\n",
    "Overview psuedocode for whole project\n",
    "notes:\n",
    "can we assume that long distance interactions are accounted for by the position of the atoms? \n",
    "ie, we dont have to explicitly model them? Same for torsional/rotational/translational restrictions?\n",
    "Its an approximation. Some residues will be restricted more than others, and the forcefield doesnt\n",
    "account for these things.\n",
    "\n",
    "\"\"\""
   ]
  },
  {
   "cell_type": "code",
   "execution_count": null,
   "metadata": {},
   "outputs": [],
   "source": [
    "# turn pdb to .top\n",
    "# read .top file make matrix with atom type, location \n",
    "# create .itp file for small molecule ligands?\n",
    "# read .itp for protein and small molecule file to get numeric information about atom types\n",
    "# add it to matrix\n",
    "# add binding energy information?\n",
    "# do we need to define the interaction zone?\n"
   ]
  }
 ],
 "metadata": {
  "kernelspec": {
   "display_name": "Python 3",
   "language": "python",
   "name": "python3"
  },
  "language_info": {
   "codemirror_mode": {
    "name": "ipython",
    "version": 3
   },
   "file_extension": ".py",
   "mimetype": "text/x-python",
   "name": "python",
   "nbconvert_exporter": "python",
   "pygments_lexer": "ipython3",
   "version": "3.7.9"
  }
 },
 "nbformat": 4,
 "nbformat_minor": 4
}
