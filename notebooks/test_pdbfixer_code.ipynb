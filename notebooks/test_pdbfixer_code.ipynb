{
 "cells": [
  {
   "cell_type": "code",
   "execution_count": 1,
   "metadata": {},
   "outputs": [],
   "source": [
    "import subprocess\n",
    "import os\n",
    "import sys\n",
    "import pdbfixer\n",
    "import simtk\n",
    "from simtk.openmm.app import PDBFile"
   ]
  },
  {
   "cell_type": "code",
   "execution_count": 2,
   "metadata": {},
   "outputs": [
    {
     "data": {
      "text/plain": [
       "'\\npsuedocode overview:\\n    import pdb\\n    count chains\\n    remove all but first chain\\n    find missing residues\\n        add missing residue dict to list to writeout later\\n    add missing atoms\\n    writeout file (PDB format?) with new metadata about which atoms were missing\\nrepeat\\n'"
      ]
     },
     "execution_count": 2,
     "metadata": {},
     "output_type": "execute_result"
    }
   ],
   "source": [
    "\"\"\"\n",
    "psuedocode overview:\n",
    "    import pdb\n",
    "    count chains\n",
    "    remove all but first chain\n",
    "    find missing residues\n",
    "        add missing residue dict to list to writeout later\n",
    "    add missing atoms\n",
    "    writeout file (PDB format?) with new metadata about which atoms were missing\n",
    "repeat\n",
    "\"\"\""
   ]
  },
  {
   "cell_type": "code",
   "execution_count": 3,
   "metadata": {},
   "outputs": [],
   "source": [
    "def count_chains(pdbfixer_obj):\n",
    "    num_chains = sum(1 for i in pdbfixer_obj.topology.chains())\n",
    "    return num_chains"
   ]
  },
  {
   "cell_type": "code",
   "execution_count": 4,
   "metadata": {},
   "outputs": [],
   "source": [
    "test_fixer = pdbfixer.PDBFixer(filename='../test_runs/pdb6jw3.pdb')"
   ]
  },
  {
   "cell_type": "code",
   "execution_count": 5,
   "metadata": {},
   "outputs": [],
   "source": [
    "num_chains = count_chains(test_fixer)"
   ]
  },
  {
   "cell_type": "code",
   "execution_count": 6,
   "metadata": {},
   "outputs": [],
   "source": [
    "test_fixer.removeChains(range(1, num_chains))"
   ]
  },
  {
   "cell_type": "code",
   "execution_count": 7,
   "metadata": {},
   "outputs": [
    {
     "data": {
      "text/plain": [
       "{(0, 497): ['HIS', 'HIS']}"
      ]
     },
     "execution_count": 7,
     "metadata": {},
     "output_type": "execute_result"
    }
   ],
   "source": [
    "test_fixer.findMissingResidues()\n",
    "test_fixer.missingResidues"
   ]
  },
  {
   "cell_type": "code",
   "execution_count": 8,
   "metadata": {},
   "outputs": [
    {
     "name": "stdout",
     "output_type": "stream",
     "text": [
      "missing atoms dict =  {<Residue 0 (MET) of chain 0>: [<Atom 3 (CG) of chain 0 residue 0 (MET)>, <Atom 4 (SD) of chain 0 residue 0 (MET)>, <Atom 5 (CE) of chain 0 residue 0 (MET)>], <Residue 6 (ARG) of chain 0>: [<Atom 3 (CG) of chain 0 residue 0 (ARG)>, <Atom 4 (CD) of chain 0 residue 0 (ARG)>, <Atom 5 (NE) of chain 0 residue 0 (ARG)>, <Atom 6 (CZ) of chain 0 residue 0 (ARG)>, <Atom 7 (NH1) of chain 0 residue 0 (ARG)>, <Atom 8 (NH2) of chain 0 residue 0 (ARG)>], <Residue 295 (HIS) of chain 0>: [<Atom 3 (CG) of chain 0 residue 0 (HIS)>, <Atom 4 (ND1) of chain 0 residue 0 (HIS)>, <Atom 5 (CE1) of chain 0 residue 0 (HIS)>, <Atom 6 (NE2) of chain 0 residue 0 (HIS)>, <Atom 7 (CD2) of chain 0 residue 0 (HIS)>]}\n"
     ]
    }
   ],
   "source": [
    "test_fixer.findMissingAtoms()\n",
    "print('missing atoms dict = ', test_fixer.missingAtoms)\n",
    "test_fixer.addMissingAtoms()\n",
    "test_fixer.addMissingHydrogens(7.0)"
   ]
  },
  {
   "cell_type": "code",
   "execution_count": 9,
   "metadata": {},
   "outputs": [
    {
     "name": "stdout",
     "output_type": "stream",
     "text": [
      "{}\n"
     ]
    }
   ],
   "source": [
    "test_fixer.findMissingAtoms()\n",
    "print(test_fixer.missingAtoms)"
   ]
  },
  {
   "cell_type": "code",
   "execution_count": 10,
   "metadata": {},
   "outputs": [],
   "source": [
    "PDBFile.writeFile(test_fixer.topology, test_fixer.positions, open('test_out.pdb', 'w'))"
   ]
  },
  {
   "cell_type": "markdown",
   "metadata": {},
   "source": [
    "### \"Output .pdb, only 1 chain. Apparently everything worked.\"\n",
    "![title](../images/pdb6jw3_1_chain.png)"
   ]
  },
  {
   "cell_type": "code",
   "execution_count": null,
   "metadata": {},
   "outputs": [],
   "source": []
  }
 ],
 "metadata": {
  "kernelspec": {
   "display_name": "Python 3",
   "language": "python",
   "name": "python3"
  },
  "language_info": {
   "codemirror_mode": {
    "name": "ipython",
    "version": 3
   },
   "file_extension": ".py",
   "mimetype": "text/x-python",
   "name": "python",
   "nbconvert_exporter": "python",
   "pygments_lexer": "ipython3",
   "version": "3.7.9"
  }
 },
 "nbformat": 4,
 "nbformat_minor": 4
}
